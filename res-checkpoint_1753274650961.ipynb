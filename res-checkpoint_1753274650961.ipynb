{
 "cells": [
  {
   "cell_type": "code",
   "execution_count": 31,
   "id": "9d64b0bf-5f63-4577-a623-4921398c54a0",
   "metadata": {},
   "outputs": [],
   "source": [
    "import pandas as pd\n",
    "import numpy as np\n",
    "from sklearn.metrics.pairwise import cosine_similarity\n",
    "from sklearn.model_selection import train_test_split\n"
   ]
  },
  {
   "cell_type": "code",
   "execution_count": 32,
   "id": "d77cdc1c-1ca3-4035-9493-746635995509",
   "metadata": {},
   "outputs": [],
   "source": [
    "star1=pd.read_csv(r\"C:\\Users\\spand\\Desktop\\Restuarnt\\one-star-michelin-restaurants.csv\")\n",
    "star2=pd.read_csv(r\"C:\\Users\\spand\\Desktop\\Restuarnt\\two-stars-michelin-restaurants.csv\")\n",
    "star3=pd.read_csv(r\"C:\\Users\\spand\\Desktop\\Restuarnt\\three-stars-michelin-restaurants.csv\")\n"
   ]
  },
  {
   "cell_type": "code",
   "execution_count": 120,
   "id": "174b5c13-481c-4359-a720-1ede4fd79421",
   "metadata": {},
   "outputs": [],
   "source": [
    "res_df=pd.concat([star1,star2,star3],ignore_index=True)\n"
   ]
  },
  {
   "cell_type": "code",
   "execution_count": 121,
   "id": "1955b8d2-19be-440e-b1e0-46ae3d5150f4",
   "metadata": {},
   "outputs": [
    {
     "name": "stdout",
     "output_type": "stream",
     "text": [
      "name         0\n",
      "year         0\n",
      "latitude     0\n",
      "longitude    0\n",
      "city         0\n",
      "region       0\n",
      "cuisine      0\n",
      "price        0\n",
      "url          0\n",
      "dtype: int64\n"
     ]
    },
    {
     "name": "stderr",
     "output_type": "stream",
     "text": [
      "C:\\Users\\spand\\AppData\\Local\\Temp\\ipykernel_9916\\136146628.py:2: FutureWarning: A value is trying to be set on a copy of a DataFrame or Series through chained assignment using an inplace method.\n",
      "The behavior will change in pandas 3.0. This inplace method will never work because the intermediate object on which we are setting values always behaves as a copy.\n",
      "\n",
      "For example, when doing 'df[col].method(value, inplace=True)', try using 'df.method({col: value}, inplace=True)' or df[col] = df[col].method(value) instead, to perform the operation inplace on the original object.\n",
      "\n",
      "\n",
      "  res_df['city'].fillna(\"Unknown\", inplace=True)\n",
      "C:\\Users\\spand\\AppData\\Local\\Temp\\ipykernel_9916\\136146628.py:3: FutureWarning: A value is trying to be set on a copy of a DataFrame or Series through chained assignment using an inplace method.\n",
      "The behavior will change in pandas 3.0. This inplace method will never work because the intermediate object on which we are setting values always behaves as a copy.\n",
      "\n",
      "For example, when doing 'df[col].method(value, inplace=True)', try using 'df.method({col: value}, inplace=True)' or df[col] = df[col].method(value) instead, to perform the operation inplace on the original object.\n",
      "\n",
      "\n",
      "  res_df['price'].fillna(\"Unknown\", inplace=True)\n"
     ]
    }
   ],
   "source": [
    "res_df.drop(columns=['zipCode'], inplace=True)\n",
    "res_df['city'].fillna(\"Unknown\", inplace=True)\n",
    "res_df['price'].fillna(\"Unknown\", inplace=True)\n",
    "res_df['name'] = res_df['name'].str.lower().str.strip()\n",
    "res_df['cuisine'] = res_df['cuisine'].str.lower().str.strip()\n",
    "print(res_df.isnull().sum())"
   ]
  },
  {
   "cell_type": "code",
   "execution_count": 122,
   "id": "9f6cda2e-ace5-464d-8ce4-f778b3b31d0a",
   "metadata": {},
   "outputs": [],
   "source": [
    "from sklearn.feature_extraction.text import TfidfVectorizer\n",
    "from sklearn.metrics.pairwise import cosine_similarity\n",
    "\n",
    "\n",
    "vectorizer = TfidfVectorizer(stop_words='english')\n",
    "cuisine_matrix = vectorizer.fit_transform(res_df['cuisine'])\n",
    "\n",
    "\n",
    "cosine_sim = cosine_similarity(cuisine_matrix)\n",
    "\n",
    "\n",
    "similarity_df = pd.DataFrame(cosine_sim, index=res_df['name'], columns=res_df['name'])\n"
   ]
  },
  {
   "cell_type": "code",
   "execution_count": 123,
   "id": "c9ef875c-da4e-4bc0-8c34-87d138c30ae2",
   "metadata": {},
   "outputs": [],
   "source": [
    "from difflib import get_close_matches\n",
    "\n",
    "def find_closest_match(restaurant_name):\n",
    "    matches = get_close_matches(restaurant_name.lower().strip(), similarity_df.index, n=1, cutoff=0.6)\n",
    "    return matches[0] if matches else None\n"
   ]
  },
  {
   "cell_type": "code",
   "execution_count": 124,
   "id": "f72fa8b5-b1e0-4b64-80b1-269924de76f6",
   "metadata": {},
   "outputs": [],
   "source": [
    "def recommend_restaurant(restaurant_name, top_n=5):\n",
    "    restaurant_name = find_closest_match(restaurant_name) \n",
    "    \n",
    "    if not restaurant_name or restaurant_name not in similarity_df.index:\n",
    "        return f\"Restaurant '{restaurant_name}' not found! Try another name.\"\n",
    "\n",
    "    recommendations = similarity_df[restaurant_name].sort_values(ascending=False).iloc[1:top_n+1]\n",
    "    return recommendations.index.tolist()\n"
   ]
  },
  {
   "cell_type": "code",
   "execution_count": 125,
   "id": "4609f994-ef1c-4230-ba5f-c752a740f6a6",
   "metadata": {},
   "outputs": [],
   "source": [
    "from fuzzywuzzy import process\n",
    "\n",
    "def find_closest_match(restaurant_name):\n",
    "   \n",
    "    closest_match = process.extractOne(restaurant_name.lower().strip(), similarity_df.index)\n",
    "    return closest_match[0] if closest_match else None\n",
    "\n",
    "def recommend_restaurant(restaurant_name, top_n=5):\n",
    "    restaurant_name = find_closest_match(restaurant_name)  \n",
    "    \n",
    "    if restaurant_name not in similarity_df.index:\n",
    "        return f\"Restaurant '{restaurant_name}' not found!.\"\n",
    "\n",
    "    recommendations = similarity_df[restaurant_name].sort_values(ascending=False).iloc[1:top_n+1]\n",
    "    return recommendations.index.tolist()\n"
   ]
  },
  {
   "cell_type": "code",
   "execution_count": 126,
   "id": "612881ff-1c23-4866-b972-6c047fdd6ce5",
   "metadata": {},
   "outputs": [
    {
     "name": "stdin",
     "output_type": "stream",
     "text": [
      "Enter a restaurant name:  sunny\n"
     ]
    },
    {
     "name": "stdout",
     "output_type": "stream",
     "text": [
      "Recommended restaurants:\n",
      "shin sushi\n",
      "mori sushi\n",
      "urasawa\n",
      "shunji\n",
      "nozawa bar\n"
     ]
    }
   ],
   "source": [
    "restaurant_name = input(\"Enter a restaurant name: \").strip().lower()\n",
    "recommendations = recommend_restaurant(restaurant_name, top_n=5)\n",
    "\n",
    "if isinstance(recommendations, list):\n",
    "    print(\"Recommended restaurants:\")\n",
    "    for res in recommendations:\n",
    "        print(res)\n",
    "else:\n",
    "    print(recommendations)  \n"
   ]
  },
  {
   "cell_type": "code",
   "execution_count": null,
   "id": "954fea39-7dcf-4359-856c-0b32770a3b2b",
   "metadata": {},
   "outputs": [],
   "source": []
  }
 ],
 "metadata": {
  "kernelspec": {
   "display_name": "Python 3 (ipykernel)",
   "language": "python",
   "name": "python3"
  },
  "language_info": {
   "codemirror_mode": {
    "name": "ipython",
    "version": 3
   },
   "file_extension": ".py",
   "mimetype": "text/x-python",
   "name": "python",
   "nbconvert_exporter": "python",
   "pygments_lexer": "ipython3",
   "version": "3.12.3"
  }
 },
 "nbformat": 4,
 "nbformat_minor": 5
}
